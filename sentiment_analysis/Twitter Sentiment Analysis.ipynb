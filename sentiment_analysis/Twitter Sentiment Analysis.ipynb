{
 "cells": [
  {
   "cell_type": "code",
   "execution_count": 5,
   "metadata": {},
   "outputs": [],
   "source": [
    "# importing libaries\n",
    "import tweepy \n",
    "from textblob import TextBlob\n"
   ]
  },
  {
   "cell_type": "code",
   "execution_count": 9,
   "metadata": {},
   "outputs": [],
   "source": [
    "# Twitter Token\n",
    "consumer_key = 'YOUR CONSUMER KEY'\n",
    "consumer_secret = 'YOUR CONSUMER SECRET'\n",
    "access_token = 'YOUR ACCESS TOKEN'\n",
    "access_token_secret = 'YOUR ACCESS TOKEN SECRET'"
   ]
  },
  {
   "cell_type": "code",
   "execution_count": 10,
   "metadata": {},
   "outputs": [],
   "source": [
    "# setting authentic token\n",
    "auth = tweepy.OAuthHandler(consumer_key, consumer_secret)\n",
    "auth.set_access_token(access_token, access_token_secret)"
   ]
  },
  {
   "cell_type": "code",
   "execution_count": 11,
   "metadata": {},
   "outputs": [],
   "source": [
    "# Creating Twitter API\n",
    "api = tweepy.API(auth)\n"
   ]
  },
  {
   "cell_type": "code",
   "execution_count": 13,
   "metadata": {},
   "outputs": [
    {
     "name": "stdout",
     "output_type": "stream",
     "text": [
      "RT @Mohansinha: Every time I see this guy a rage builds up inside me  https://t.co/CrTUonTUBD\n",
      "Sentiment(polarity=0.0, subjectivity=0.0)\n",
      "RT @PMOIndia: Asian Games: PM @narendramodi congratulates Indian contingent for best-ever performance. \n",
      "https://t.co/AI7ZdFoOKQ via NaMo Ap…\n",
      "Sentiment(polarity=-0.05, subjectivity=0.3)\n",
      "RT @madhukishwar: The economic &amp; political wisdom of Maharashtra CM beat Tuglaqi Farmans hollow. That it is happenning under Modi's watchfu…\n",
      "Sentiment(polarity=0.03333333333333333, subjectivity=0.11666666666666668)\n",
      "RT @sardesairajdeep: Petrol/diesel prices are politically volatile! Here is a slogan sent by @ssr99 that may haunt the Modi government toda…\n",
      "Sentiment(polarity=0.0, subjectivity=0.1)\n",
      "RT @rssurjewala: On one hand, ₹ slides uncontrollably,\n",
      "‘Exports Credit’ declines by 47% !\n",
      "\n",
      "Economy in doldrums as Modi Govt remains on ‘mut…\n",
      "Sentiment(polarity=0.0, subjectivity=0.0)\n",
      "RT @mvmeet: Fake News Peddler Dhruv Chatee claimed Modi's Yoga Video costed 4300 Cr\n",
      " \n",
      "Most expensive hollywood movie Pirates of the Carribe…\n",
      "Sentiment(polarity=-0.16666666666666666, subjectivity=0.7333333333333334)\n",
      "@Sandip2019 @RamsaBJYM NOTA vale rayta nhi faila raha he bhai\n",
      "BJP ka kattar voter he \n",
      "Jise Modi govt ne lat mari...… https://t.co/UDMk2UXqsf\n",
      "Sentiment(polarity=0.0, subjectivity=0.0)\n",
      "RT @mvmeet: Fake News Peddler Dhruv Chatee claimed Modi's Yoga Video costed 4300 Cr\n",
      " \n",
      "Most expensive hollywood movie Pirates of the Carribe…\n",
      "Sentiment(polarity=-0.16666666666666666, subjectivity=0.7333333333333334)\n",
      "#धोखेबाज_खट्टर_सरकार \n",
      "भैयापुर लाढौंत  रोहतक के गुरुकुल में जो कि आर्य समाजियों द्वारा संचालित है वहां नाबालिक बच्… https://t.co/MHXuyeUJ89\n",
      "Sentiment(polarity=0.0, subjectivity=0.0)\n",
      "@i_upasana @nalandacapital Modi or no modi, raga or no raga, bhakti karni hai to country se karo. Aur dimag ko khul… https://t.co/LgfAEGPOSg\n",
      "Sentiment(polarity=0.0, subjectivity=0.0)\n",
      "RT @upma23: A female can abuse shout  at a passenger  (she is Christian and hate BJP/Modi)   inside an airplane which is against law , if b…\n",
      "Sentiment(polarity=-0.26666666666666666, subjectivity=0.35555555555555557)\n",
      "RT @sagarikaghose: Student arrested, called “terrorist” and sent to 15 days judicial custody for shouting against Modi govt?? !! | The Indi…\n",
      "Sentiment(polarity=0.0, subjectivity=0.0)\n",
      "@kamalakar47 @Surya46846252 @ashoswai @RutvikSubhedar @sanjivbhatt @INCIndia @narendramodi Russia requests India to… https://t.co/Gi352TZGht\n",
      "Sentiment(polarity=0.0, subjectivity=0.0)\n",
      "RT @OriginalAnmol: #TuesdayThoughts Indian Railways is transforming and it's transforming Rapidly under Modi Government\n",
      "\n",
      "Kudos to @PiyushGo…\n",
      "Sentiment(polarity=0.0, subjectivity=0.0)\n",
      "RT @mkvenu1: Remember how Modi ji used to thunder in 2013 that rupee decline against dollar was solely because of corruption &amp; mismanagemen…\n",
      "Sentiment(polarity=0.0, subjectivity=0.0)\n"
     ]
    }
   ],
   "source": [
    "# Searching for tweet related to Modi\n",
    "public_tweets = api.search(\"Modi\")\n",
    "\n",
    "for tweet in public_tweets:\n",
    "    print(tweet.text)\n",
    "    analysis = TextBlob(tweet.text)\n",
    "    print(analysis.sentiment)"
   ]
  },
  {
   "cell_type": "code",
   "execution_count": null,
   "metadata": {},
   "outputs": [],
   "source": []
  }
 ],
 "metadata": {
  "kernelspec": {
   "display_name": "Python 3",
   "language": "python",
   "name": "python3"
  },
  "language_info": {
   "codemirror_mode": {
    "name": "ipython",
    "version": 3
   },
   "file_extension": ".py",
   "mimetype": "text/x-python",
   "name": "python",
   "nbconvert_exporter": "python",
   "pygments_lexer": "ipython3",
   "version": "3.6.6"
  }
 },
 "nbformat": 4,
 "nbformat_minor": 2
}
